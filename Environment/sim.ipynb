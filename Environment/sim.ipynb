{
 "cells": [
  {
   "cell_type": "code",
   "execution_count": null,
   "metadata": {},
   "outputs": [],
   "source": [
    "from gym.envs.registration import register\n",
    "\n",
    "register(\n",
    "    id='MazeEnv-v0',\n",
    "    entry_point='MazeEnv:MazeEnv',\n",
    "    max_episode_steps=1000\n",
    ")"
   ]
  },
  {
   "cell_type": "code",
   "execution_count": null,
   "metadata": {},
   "outputs": [],
   "source": [
    "from MazeEnv import MazeEnv\n",
    "\n",
    "env = MazeEnv(render_mode=\"rgb_array\")\n",
    "obs, _ = env.reset()\n",
    "\n",
    "for _ in range(10):\n",
    "    for _ in range(1000):\n",
    "        action = env.action_space.sample()  # Random actions\n",
    "        obs, reward, done, truncated, info = env.step(action)\n",
    "\n",
    "        #print(obs.shape)\n",
    "\n",
    "        env.render()\n",
    "        if done:\n",
    "            break\n",
    "\n",
    "env.close()"
   ]
  },
  {
   "cell_type": "code",
   "execution_count": null,
   "metadata": {},
   "outputs": [],
   "source": [
    "# Run \n",
    "from MazeEnv import MazeGame\n",
    "import pyglet\n",
    "\n",
    "game = MazeGame(width=800, height=600)\n",
    "\n",
    "if __name__ == \"__main__\":\n",
    "    pyglet.app.run()"
   ]
  }
 ],
 "metadata": {
  "kernelspec": {
   "display_name": ".venv",
   "language": "python",
   "name": "python3"
  },
  "language_info": {
   "codemirror_mode": {
    "name": "ipython",
    "version": 3
   },
   "file_extension": ".py",
   "mimetype": "text/x-python",
   "name": "python",
   "nbconvert_exporter": "python",
   "pygments_lexer": "ipython3",
   "version": "3.12.3"
  }
 },
 "nbformat": 4,
 "nbformat_minor": 2
}
